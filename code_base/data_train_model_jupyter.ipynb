{
 "cells": [
  {
   "cell_type": "code",
   "execution_count": 1,
   "id": "40c1e79c-59bd-49a1-82e2-4a26a7541593",
   "metadata": {},
   "outputs": [],
   "source": [
    "import pandas as pd\n",
    "import matplotlib.pyplot as plt\n",
    "from sklearn import svm, datasets\n",
    "import numpy as np\n",
    "from sklearn.model_selection import train_test_split\n",
    "from sklearn.metrics import f1_score, accuracy_score, f1_score, precision_score, recall_score, classification_report, confusion_matrix, plot_confusion_matrix\n",
    "from sklearn import svm\n"
   ]
  },
  {
   "cell_type": "code",
   "execution_count": 2,
   "id": "e7d75824-c7fc-4e12-891f-64df0c4347c6",
   "metadata": {},
   "outputs": [
    {
     "data": {
      "text/html": [
       "<div>\n",
       "<style scoped>\n",
       "    .dataframe tbody tr th:only-of-type {\n",
       "        vertical-align: middle;\n",
       "    }\n",
       "\n",
       "    .dataframe tbody tr th {\n",
       "        vertical-align: top;\n",
       "    }\n",
       "\n",
       "    .dataframe thead th {\n",
       "        text-align: right;\n",
       "    }\n",
       "</style>\n",
       "<table border=\"1\" class=\"dataframe\">\n",
       "  <thead>\n",
       "    <tr style=\"text-align: right;\">\n",
       "      <th></th>\n",
       "      <th>room</th>\n",
       "      <th>1</th>\n",
       "      <th>2</th>\n",
       "      <th>3</th>\n",
       "    </tr>\n",
       "  </thead>\n",
       "  <tbody>\n",
       "    <tr>\n",
       "      <th>0</th>\n",
       "      <td>1</td>\n",
       "      <td>-52</td>\n",
       "      <td>-37</td>\n",
       "      <td>-30</td>\n",
       "    </tr>\n",
       "    <tr>\n",
       "      <th>1</th>\n",
       "      <td>1</td>\n",
       "      <td>-60</td>\n",
       "      <td>-39</td>\n",
       "      <td>-35</td>\n",
       "    </tr>\n",
       "    <tr>\n",
       "      <th>2</th>\n",
       "      <td>1</td>\n",
       "      <td>-56</td>\n",
       "      <td>-30</td>\n",
       "      <td>-51</td>\n",
       "    </tr>\n",
       "    <tr>\n",
       "      <th>3</th>\n",
       "      <td>1</td>\n",
       "      <td>-66</td>\n",
       "      <td>-27</td>\n",
       "      <td>-35</td>\n",
       "    </tr>\n",
       "    <tr>\n",
       "      <th>4</th>\n",
       "      <td>1</td>\n",
       "      <td>-65</td>\n",
       "      <td>-37</td>\n",
       "      <td>-41</td>\n",
       "    </tr>\n",
       "    <tr>\n",
       "      <th>...</th>\n",
       "      <td>...</td>\n",
       "      <td>...</td>\n",
       "      <td>...</td>\n",
       "      <td>...</td>\n",
       "    </tr>\n",
       "    <tr>\n",
       "      <th>84</th>\n",
       "      <td>3</td>\n",
       "      <td>-56</td>\n",
       "      <td>-74</td>\n",
       "      <td>-48</td>\n",
       "    </tr>\n",
       "    <tr>\n",
       "      <th>85</th>\n",
       "      <td>3</td>\n",
       "      <td>-57</td>\n",
       "      <td>-70</td>\n",
       "      <td>-36</td>\n",
       "    </tr>\n",
       "    <tr>\n",
       "      <th>86</th>\n",
       "      <td>3</td>\n",
       "      <td>-62</td>\n",
       "      <td>-74</td>\n",
       "      <td>-55</td>\n",
       "    </tr>\n",
       "    <tr>\n",
       "      <th>87</th>\n",
       "      <td>3</td>\n",
       "      <td>-52</td>\n",
       "      <td>-72</td>\n",
       "      <td>-40</td>\n",
       "    </tr>\n",
       "    <tr>\n",
       "      <th>88</th>\n",
       "      <td>3</td>\n",
       "      <td>-61</td>\n",
       "      <td>-72</td>\n",
       "      <td>-46</td>\n",
       "    </tr>\n",
       "  </tbody>\n",
       "</table>\n",
       "<p>89 rows × 4 columns</p>\n",
       "</div>"
      ],
      "text/plain": [
       "    room   1   2   3\n",
       "0      1 -52 -37 -30\n",
       "1      1 -60 -39 -35\n",
       "2      1 -56 -30 -51\n",
       "3      1 -66 -27 -35\n",
       "4      1 -65 -37 -41\n",
       "..   ...  ..  ..  ..\n",
       "84     3 -56 -74 -48\n",
       "85     3 -57 -70 -36\n",
       "86     3 -62 -74 -55\n",
       "87     3 -52 -72 -40\n",
       "88     3 -61 -72 -46\n",
       "\n",
       "[89 rows x 4 columns]"
      ]
     },
     "execution_count": 2,
     "metadata": {},
     "output_type": "execute_result"
    }
   ],
   "source": [
    "#------------set-up---------------\n",
    "data_in_name = \"data_out.csv\"\n",
    "random_state = 33 \n",
    "test_split = 0.20\n",
    "kernel = \"linear\"\n",
    "c = 1\n",
    "gamm = 0.001 \n",
    "#---------------------------------\n",
    "df = pd.read_csv(data_in_name)\n",
    "df = df.iloc[: , 1:5]\n",
    "df"
   ]
  },
  {
   "cell_type": "code",
   "execution_count": 3,
   "id": "cd8f0e74-0f57-4498-9dae-dcb074c0fd86",
   "metadata": {},
   "outputs": [
    {
     "data": {
      "text/plain": [
       "2    30\n",
       "3    30\n",
       "1    29\n",
       "Name: room, dtype: int64"
      ]
     },
     "execution_count": 3,
     "metadata": {},
     "output_type": "execute_result"
    }
   ],
   "source": [
    "X = df[df.columns.difference([\"room\"])]\n",
    "y = df[\"room\"]\n",
    "\n",
    "y.value_counts()"
   ]
  },
  {
   "cell_type": "code",
   "execution_count": 4,
   "id": "d8114f61-6ed4-4cdc-bb5f-8a5f95078f73",
   "metadata": {},
   "outputs": [
    {
     "data": {
      "text/plain": [
       "3    10\n",
       "2     5\n",
       "1     3\n",
       "Name: room, dtype: int64"
      ]
     },
     "execution_count": 4,
     "metadata": {},
     "output_type": "execute_result"
    }
   ],
   "source": [
    "X_train, X_test, y_train, y_test = train_test_split(X, y, test_size=test_split, random_state=random_state)\n",
    "y_test.value_counts()"
   ]
  },
  {
   "cell_type": "code",
   "execution_count": 5,
   "id": "0e2f6e8b-ca64-4568-8295-395d580a531d",
   "metadata": {},
   "outputs": [
    {
     "data": {
      "text/plain": [
       "1    26\n",
       "2    25\n",
       "3    20\n",
       "Name: room, dtype: int64"
      ]
     },
     "execution_count": 5,
     "metadata": {},
     "output_type": "execute_result"
    }
   ],
   "source": [
    "y_train.value_counts()"
   ]
  },
  {
   "cell_type": "code",
   "execution_count": 6,
   "id": "ac868314-cd8f-4d82-b535-657f74994af9",
   "metadata": {},
   "outputs": [
    {
     "data": {
      "text/plain": [
       "SVC(C=1, gamma=0.001, kernel='linear')"
      ]
     },
     "execution_count": 6,
     "metadata": {},
     "output_type": "execute_result"
    }
   ],
   "source": [
    "clf = svm.SVC(kernel = kernel, C = c, gamma = gamm)\n",
    "clf.fit(X_train, y_train)"
   ]
  },
  {
   "cell_type": "code",
   "execution_count": 7,
   "id": "4279e586-7b1a-442a-b553-eeda170789dc",
   "metadata": {},
   "outputs": [
    {
     "data": {
      "text/html": [
       "<div>\n",
       "<style scoped>\n",
       "    .dataframe tbody tr th:only-of-type {\n",
       "        vertical-align: middle;\n",
       "    }\n",
       "\n",
       "    .dataframe tbody tr th {\n",
       "        vertical-align: top;\n",
       "    }\n",
       "\n",
       "    .dataframe thead th {\n",
       "        text-align: right;\n",
       "    }\n",
       "</style>\n",
       "<table border=\"1\" class=\"dataframe\">\n",
       "  <thead>\n",
       "    <tr style=\"text-align: right;\">\n",
       "      <th></th>\n",
       "      <th>1</th>\n",
       "      <th>2</th>\n",
       "      <th>3</th>\n",
       "    </tr>\n",
       "  </thead>\n",
       "  <tbody>\n",
       "    <tr>\n",
       "      <th>6</th>\n",
       "      <td>-58</td>\n",
       "      <td>-43</td>\n",
       "      <td>-56</td>\n",
       "    </tr>\n",
       "    <tr>\n",
       "      <th>75</th>\n",
       "      <td>-58</td>\n",
       "      <td>-69</td>\n",
       "      <td>-51</td>\n",
       "    </tr>\n",
       "    <tr>\n",
       "      <th>2</th>\n",
       "      <td>-56</td>\n",
       "      <td>-30</td>\n",
       "      <td>-51</td>\n",
       "    </tr>\n",
       "    <tr>\n",
       "      <th>70</th>\n",
       "      <td>-57</td>\n",
       "      <td>-78</td>\n",
       "      <td>-44</td>\n",
       "    </tr>\n",
       "    <tr>\n",
       "      <th>85</th>\n",
       "      <td>-57</td>\n",
       "      <td>-70</td>\n",
       "      <td>-36</td>\n",
       "    </tr>\n",
       "    <tr>\n",
       "      <th>29</th>\n",
       "      <td>-57</td>\n",
       "      <td>-55</td>\n",
       "      <td>-35</td>\n",
       "    </tr>\n",
       "    <tr>\n",
       "      <th>60</th>\n",
       "      <td>-56</td>\n",
       "      <td>-66</td>\n",
       "      <td>-52</td>\n",
       "    </tr>\n",
       "    <tr>\n",
       "      <th>88</th>\n",
       "      <td>-61</td>\n",
       "      <td>-72</td>\n",
       "      <td>-46</td>\n",
       "    </tr>\n",
       "    <tr>\n",
       "      <th>34</th>\n",
       "      <td>-50</td>\n",
       "      <td>-53</td>\n",
       "      <td>-19</td>\n",
       "    </tr>\n",
       "    <tr>\n",
       "      <th>4</th>\n",
       "      <td>-65</td>\n",
       "      <td>-37</td>\n",
       "      <td>-41</td>\n",
       "    </tr>\n",
       "    <tr>\n",
       "      <th>64</th>\n",
       "      <td>-59</td>\n",
       "      <td>-69</td>\n",
       "      <td>-46</td>\n",
       "    </tr>\n",
       "    <tr>\n",
       "      <th>69</th>\n",
       "      <td>-56</td>\n",
       "      <td>-72</td>\n",
       "      <td>-43</td>\n",
       "    </tr>\n",
       "    <tr>\n",
       "      <th>84</th>\n",
       "      <td>-56</td>\n",
       "      <td>-74</td>\n",
       "      <td>-48</td>\n",
       "    </tr>\n",
       "    <tr>\n",
       "      <th>51</th>\n",
       "      <td>-54</td>\n",
       "      <td>-56</td>\n",
       "      <td>-24</td>\n",
       "    </tr>\n",
       "    <tr>\n",
       "      <th>46</th>\n",
       "      <td>-55</td>\n",
       "      <td>-56</td>\n",
       "      <td>-15</td>\n",
       "    </tr>\n",
       "    <tr>\n",
       "      <th>37</th>\n",
       "      <td>-55</td>\n",
       "      <td>-65</td>\n",
       "      <td>-25</td>\n",
       "    </tr>\n",
       "    <tr>\n",
       "      <th>77</th>\n",
       "      <td>-64</td>\n",
       "      <td>-71</td>\n",
       "      <td>-63</td>\n",
       "    </tr>\n",
       "    <tr>\n",
       "      <th>62</th>\n",
       "      <td>-52</td>\n",
       "      <td>-68</td>\n",
       "      <td>-41</td>\n",
       "    </tr>\n",
       "  </tbody>\n",
       "</table>\n",
       "</div>"
      ],
      "text/plain": [
       "     1   2   3\n",
       "6  -58 -43 -56\n",
       "75 -58 -69 -51\n",
       "2  -56 -30 -51\n",
       "70 -57 -78 -44\n",
       "85 -57 -70 -36\n",
       "29 -57 -55 -35\n",
       "60 -56 -66 -52\n",
       "88 -61 -72 -46\n",
       "34 -50 -53 -19\n",
       "4  -65 -37 -41\n",
       "64 -59 -69 -46\n",
       "69 -56 -72 -43\n",
       "84 -56 -74 -48\n",
       "51 -54 -56 -24\n",
       "46 -55 -56 -15\n",
       "37 -55 -65 -25\n",
       "77 -64 -71 -63\n",
       "62 -52 -68 -41"
      ]
     },
     "execution_count": 7,
     "metadata": {},
     "output_type": "execute_result"
    }
   ],
   "source": [
    "X_test"
   ]
  },
  {
   "cell_type": "code",
   "execution_count": 8,
   "id": "70077b9c-112f-4a13-bdd1-e5ca05540fb4",
   "metadata": {},
   "outputs": [
    {
     "data": {
      "text/plain": [
       "6     1\n",
       "75    3\n",
       "2     1\n",
       "70    3\n",
       "85    3\n",
       "29    2\n",
       "60    3\n",
       "88    3\n",
       "34    2\n",
       "4     1\n",
       "64    3\n",
       "69    3\n",
       "84    3\n",
       "51    2\n",
       "46    2\n",
       "37    2\n",
       "77    3\n",
       "62    3\n",
       "Name: room, dtype: int64"
      ]
     },
     "execution_count": 8,
     "metadata": {},
     "output_type": "execute_result"
    }
   ],
   "source": [
    "y_test"
   ]
  },
  {
   "cell_type": "code",
   "execution_count": 9,
   "id": "a9897361-cffd-447a-a49a-0dd8d8768f5c",
   "metadata": {},
   "outputs": [
    {
     "data": {
      "text/plain": [
       "array([1, 3, 1, 3, 3, 1, 3, 3, 2, 1, 3, 3, 3, 2, 2, 2, 3, 3], dtype=int64)"
      ]
     },
     "execution_count": 9,
     "metadata": {},
     "output_type": "execute_result"
    }
   ],
   "source": [
    "y_pred = clf.predict(X_test)\n",
    "y_pred"
   ]
  },
  {
   "cell_type": "code",
   "execution_count": 10,
   "id": "435577f5-a6ef-4618-b082-d093691c4867",
   "metadata": {},
   "outputs": [
    {
     "name": "stdout",
     "output_type": "stream",
     "text": [
      "0.9444444444444444\n",
      "0.9166666666666666\n",
      "0.9333333333333332\n",
      "              precision    recall  f1-score   support\n",
      "\n",
      "           1       0.75      1.00      0.86         3\n",
      "           2       1.00      0.80      0.89         5\n",
      "           3       1.00      1.00      1.00        10\n",
      "\n",
      "    accuracy                           0.94        18\n",
      "   macro avg       0.92      0.93      0.92        18\n",
      "weighted avg       0.96      0.94      0.95        18\n",
      "\n"
     ]
    },
    {
     "data": {
      "text/plain": [
       "<sklearn.metrics._plot.confusion_matrix.ConfusionMatrixDisplay at 0x1fa5d58f130>"
      ]
     },
     "execution_count": 10,
     "metadata": {},
     "output_type": "execute_result"
    },
    {
     "data": {
      "image/png": "[encoded data removed]",
      "text/plain": [
       "<Figure size 720x360 with 2 Axes>"
      ]
     },
     "metadata": {
      "needs_background": "light"
     },
     "output_type": "display_data"
    }
   ],
   "source": [
    "plt.rcParams['figure.figsize'] = 10, 5\n",
    "\n",
    "print(f1_score(y_test, y_pred, average='micro'))\n",
    "print(precision_score(y_test, y_pred, average=\"macro\"))\n",
    "print(recall_score(y_test, y_pred, average=\"macro\"))\n",
    "\n",
    "print(classification_report(y_test,y_pred))\n",
    "plot_confusion_matrix(clf, X_test, y_test)"
   ]
  },
  {
   "cell_type": "code",
   "execution_count": 11,
   "id": "ac39cdfb-c024-41c2-86be-073bc5af8abb",
   "metadata": {},
   "outputs": [
    {
     "name": "stdout",
     "output_type": "stream",
     "text": [
      "Requirement already satisfied: micromlgen in c:\\users\\tvaro\\anaconda3\\envs\\recsys\\lib\\site-packages (1.1.26)\n",
      "Requirement already satisfied: jinja2 in c:\\users\\tvaro\\anaconda3\\envs\\recsys\\lib\\site-packages (from micromlgen) (3.0.3)\n",
      "Requirement already satisfied: MarkupSafe>=2.0 in c:\\users\\tvaro\\anaconda3\\envs\\recsys\\lib\\site-packages (from jinja2->micromlgen) (2.0.1)\n"
     ]
    }
   ],
   "source": [
    "!pip install micromlgen"
   ]
  },
  {
   "cell_type": "code",
   "execution_count": 12,
   "id": "510dcd02-90be-4752-8a79-ec49f95062a0",
   "metadata": {},
   "outputs": [],
   "source": [
    "from micromlgen import port"
   ]
  },
  {
   "cell_type": "code",
   "execution_count": 13,
   "id": "8fb73ec1-4d82-4531-960c-8ae06ffcc672",
   "metadata": {},
   "outputs": [
    {
     "name": "stdout",
     "output_type": "stream",
     "text": [
      "{0: '1', 1: '2', 2: '3'}\n"
     ]
    }
   ],
   "source": [
    "LABELS = ['1','2','3'] #our existing labels\n",
    "classMap = {} #create an empty dict\n",
    "for i, label in zip(range(3),LABELS): #interate over the range and the labels at the same time \n",
    "  classMap[i]=label #fill our dict\n",
    "\n",
    "print(classMap)"
   ]
  },
  {
   "cell_type": "code",
   "execution_count": 14,
   "id": "8780fe46-a9a2-42d7-81a2-4ab531a1edbe",
   "metadata": {},
   "outputs": [
    {
     "name": "stdout",
     "output_type": "stream",
     "text": [
      "Header file, model.h, is 4,312 bytes.\n",
      "\n",
      "Open the side panel (refresh if needed). Double click model.h to download the file.\n"
     ]
    }
   ],
   "source": [
    "c_code = port(clf,classmap=classMap) #convert our model\n",
    "modelFile = open(\"model.h\", \"w\")\n",
    "modelFile.write(c_code)\n",
    "modelFile.close()\n",
    "\n",
    "#Let's print the size of the .h file\n",
    "import os\n",
    "model_h_size = os.path.getsize(\"model.h\")\n",
    "print(f\"Header file, model.h, is {model_h_size:,} bytes.\")\n",
    "print(\"\\nOpen the side panel (refresh if needed). Double click model.h to download the file.\")"
   ]
  },
  {
   "cell_type": "code",
   "execution_count": 15,
   "id": "e1e8af6c-c618-48dd-bec0-0d9bdcf4392b",
   "metadata": {},
   "outputs": [],
   "source": [
    "with open(\"model.h\", \"r\") as f:\n",
    "    list_of_lines = f.readlines()\n",
    "    list_of_lines[1] = \"#include <stdarg.h>\\n\"\n",
    "    \n",
    "with open(\"model.h\", \"w\") as f:\n",
    "    f.writelines(list_of_lines)\n",
    "    "
   ]
  }
 ],
 "metadata": {
  "kernelspec": {
   "display_name": "Python 3 (ipykernel)",
   "language": "python",
   "name": "python3"
  },
  "language_info": {
   "codemirror_mode": {
    "name": "ipython",
    "version": 3
   },
   "file_extension": ".py",
   "mimetype": "text/x-python",
   "name": "python",
   "nbconvert_exporter": "python",
   "pygments_lexer": "ipython3",
   "version": "3.9.7"
  }
 },
 "nbformat": 4,
 "nbformat_minor": 5
}
