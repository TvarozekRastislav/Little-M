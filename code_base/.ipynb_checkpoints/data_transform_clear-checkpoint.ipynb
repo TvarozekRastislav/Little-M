{
 "cells": [
  {
   "cell_type": "code",
   "execution_count": 37,
   "id": "b333e69c-aebe-4b2e-bd57-84cf0807dde3",
   "metadata": {},
   "outputs": [],
   "source": [
    "import pandas as pd\n",
    "import numpy as np\n",
    "import matplotlib.pyplot as plt\n",
    "import matplotlib\n",
    "import seaborn as sns\n",
    "plt.rcParams['figure.figsize'] = 20, 15\n",
    "\n"
   ]
  },
  {
   "cell_type": "code",
   "execution_count": 16,
   "id": "e0c5a7a2-c3b0-4c2e-a7cc-351dff87cf87",
   "metadata": {},
   "outputs": [
    {
     "data": {
      "text/html": [
       "<div>\n",
       "<style scoped>\n",
       "    .dataframe tbody tr th:only-of-type {\n",
       "        vertical-align: middle;\n",
       "    }\n",
       "\n",
       "    .dataframe tbody tr th {\n",
       "        vertical-align: top;\n",
       "    }\n",
       "\n",
       "    .dataframe thead th {\n",
       "        text-align: right;\n",
       "    }\n",
       "</style>\n",
       "<table border=\"1\" class=\"dataframe\">\n",
       "  <thead>\n",
       "    <tr style=\"text-align: right;\">\n",
       "      <th></th>\n",
       "      <th>room</th>\n",
       "      <th>rod</th>\n",
       "      <th>tp</th>\n",
       "      <th>lid</th>\n",
       "    </tr>\n",
       "  </thead>\n",
       "  <tbody>\n",
       "    <tr>\n",
       "      <th>0</th>\n",
       "      <td>1</td>\n",
       "      <td>-34</td>\n",
       "      <td>-72</td>\n",
       "      <td>-33.0</td>\n",
       "    </tr>\n",
       "    <tr>\n",
       "      <th>1</th>\n",
       "      <td>1</td>\n",
       "      <td>-37</td>\n",
       "      <td>-87</td>\n",
       "      <td>-59.0</td>\n",
       "    </tr>\n",
       "    <tr>\n",
       "      <th>2</th>\n",
       "      <td>1</td>\n",
       "      <td>-54</td>\n",
       "      <td>-91</td>\n",
       "      <td>-56.0</td>\n",
       "    </tr>\n",
       "    <tr>\n",
       "      <th>3</th>\n",
       "      <td>1</td>\n",
       "      <td>-33</td>\n",
       "      <td>-88</td>\n",
       "      <td>-50.0</td>\n",
       "    </tr>\n",
       "    <tr>\n",
       "      <th>4</th>\n",
       "      <td>1</td>\n",
       "      <td>-38</td>\n",
       "      <td>-77</td>\n",
       "      <td>-51.0</td>\n",
       "    </tr>\n",
       "    <tr>\n",
       "      <th>6</th>\n",
       "      <td>1</td>\n",
       "      <td>-37</td>\n",
       "      <td>-86</td>\n",
       "      <td>-51.0</td>\n",
       "    </tr>\n",
       "    <tr>\n",
       "      <th>7</th>\n",
       "      <td>1</td>\n",
       "      <td>-52</td>\n",
       "      <td>-91</td>\n",
       "      <td>-56.0</td>\n",
       "    </tr>\n",
       "    <tr>\n",
       "      <th>10</th>\n",
       "      <td>2</td>\n",
       "      <td>-62</td>\n",
       "      <td>-76</td>\n",
       "      <td>-48.0</td>\n",
       "    </tr>\n",
       "    <tr>\n",
       "      <th>11</th>\n",
       "      <td>2</td>\n",
       "      <td>-59</td>\n",
       "      <td>-76</td>\n",
       "      <td>-31.0</td>\n",
       "    </tr>\n",
       "    <tr>\n",
       "      <th>12</th>\n",
       "      <td>2</td>\n",
       "      <td>-68</td>\n",
       "      <td>-63</td>\n",
       "      <td>-47.0</td>\n",
       "    </tr>\n",
       "    <tr>\n",
       "      <th>13</th>\n",
       "      <td>2</td>\n",
       "      <td>-66</td>\n",
       "      <td>-72</td>\n",
       "      <td>-21.0</td>\n",
       "    </tr>\n",
       "    <tr>\n",
       "      <th>14</th>\n",
       "      <td>2</td>\n",
       "      <td>-59</td>\n",
       "      <td>-65</td>\n",
       "      <td>-38.0</td>\n",
       "    </tr>\n",
       "    <tr>\n",
       "      <th>15</th>\n",
       "      <td>2</td>\n",
       "      <td>-66</td>\n",
       "      <td>-69</td>\n",
       "      <td>-26.0</td>\n",
       "    </tr>\n",
       "    <tr>\n",
       "      <th>16</th>\n",
       "      <td>2</td>\n",
       "      <td>-73</td>\n",
       "      <td>-67</td>\n",
       "      <td>-39.0</td>\n",
       "    </tr>\n",
       "    <tr>\n",
       "      <th>17</th>\n",
       "      <td>2</td>\n",
       "      <td>-65</td>\n",
       "      <td>-60</td>\n",
       "      <td>-31.0</td>\n",
       "    </tr>\n",
       "    <tr>\n",
       "      <th>18</th>\n",
       "      <td>2</td>\n",
       "      <td>-61</td>\n",
       "      <td>-75</td>\n",
       "      <td>-36.0</td>\n",
       "    </tr>\n",
       "    <tr>\n",
       "      <th>19</th>\n",
       "      <td>2</td>\n",
       "      <td>-55</td>\n",
       "      <td>-76</td>\n",
       "      <td>-28.0</td>\n",
       "    </tr>\n",
       "    <tr>\n",
       "      <th>20</th>\n",
       "      <td>3</td>\n",
       "      <td>-73</td>\n",
       "      <td>-66</td>\n",
       "      <td>-52.0</td>\n",
       "    </tr>\n",
       "    <tr>\n",
       "      <th>22</th>\n",
       "      <td>3</td>\n",
       "      <td>-71</td>\n",
       "      <td>-61</td>\n",
       "      <td>-58.0</td>\n",
       "    </tr>\n",
       "    <tr>\n",
       "      <th>23</th>\n",
       "      <td>3</td>\n",
       "      <td>-74</td>\n",
       "      <td>-61</td>\n",
       "      <td>-58.0</td>\n",
       "    </tr>\n",
       "    <tr>\n",
       "      <th>24</th>\n",
       "      <td>3</td>\n",
       "      <td>-74</td>\n",
       "      <td>-58</td>\n",
       "      <td>-54.0</td>\n",
       "    </tr>\n",
       "    <tr>\n",
       "      <th>25</th>\n",
       "      <td>3</td>\n",
       "      <td>-76</td>\n",
       "      <td>-61</td>\n",
       "      <td>-55.0</td>\n",
       "    </tr>\n",
       "    <tr>\n",
       "      <th>26</th>\n",
       "      <td>3</td>\n",
       "      <td>-74</td>\n",
       "      <td>-62</td>\n",
       "      <td>-28.0</td>\n",
       "    </tr>\n",
       "    <tr>\n",
       "      <th>27</th>\n",
       "      <td>3</td>\n",
       "      <td>-73</td>\n",
       "      <td>-63</td>\n",
       "      <td>-72.0</td>\n",
       "    </tr>\n",
       "    <tr>\n",
       "      <th>28</th>\n",
       "      <td>3</td>\n",
       "      <td>-75</td>\n",
       "      <td>-75</td>\n",
       "      <td>-53.0</td>\n",
       "    </tr>\n",
       "  </tbody>\n",
       "</table>\n",
       "</div>"
      ],
      "text/plain": [
       "    room  rod  tp   lid\n",
       "0      1  -34 -72 -33.0\n",
       "1      1  -37 -87 -59.0\n",
       "2      1  -54 -91 -56.0\n",
       "3      1  -33 -88 -50.0\n",
       "4      1  -38 -77 -51.0\n",
       "6      1  -37 -86 -51.0\n",
       "7      1  -52 -91 -56.0\n",
       "10     2  -62 -76 -48.0\n",
       "11     2  -59 -76 -31.0\n",
       "12     2  -68 -63 -47.0\n",
       "13     2  -66 -72 -21.0\n",
       "14     2  -59 -65 -38.0\n",
       "15     2  -66 -69 -26.0\n",
       "16     2  -73 -67 -39.0\n",
       "17     2  -65 -60 -31.0\n",
       "18     2  -61 -75 -36.0\n",
       "19     2  -55 -76 -28.0\n",
       "20     3  -73 -66 -52.0\n",
       "22     3  -71 -61 -58.0\n",
       "23     3  -74 -61 -58.0\n",
       "24     3  -74 -58 -54.0\n",
       "25     3  -76 -61 -55.0\n",
       "26     3  -74 -62 -28.0\n",
       "27     3  -73 -63 -72.0\n",
       "28     3  -75 -75 -53.0"
      ]
     },
     "execution_count": 16,
     "metadata": {},
     "output_type": "execute_result"
    }
   ],
   "source": [
    "df = pd.read_csv('data_SSID.txt', sep=\"|\", header=None)\n",
    "df.columns = [\"room\", \"rod\",\"nn\", \"tp\",\"n\",\"lid\", \"n\"]\n",
    "df.pop(\"nn\")\n",
    "df.pop(\"n\")\n",
    "df = df.dropna(axis= 0)\n",
    "df"
   ]
  },
  {
   "cell_type": "code",
   "execution_count": 17,
   "id": "322e714d-93a2-4b6a-af6e-055b34e4a942",
   "metadata": {},
   "outputs": [
    {
     "data": {
      "text/plain": [
       "2    10\n",
       "3     8\n",
       "1     7\n",
       "Name: room, dtype: int64"
      ]
     },
     "execution_count": 17,
     "metadata": {},
     "output_type": "execute_result"
    }
   ],
   "source": [
    "df.room.value_counts()"
   ]
  },
  {
   "cell_type": "code",
   "execution_count": 18,
   "id": "b3e476fa-0e30-4388-8928-9886f2fc8d10",
   "metadata": {},
   "outputs": [
    {
     "data": {
      "text/plain": [
       "(25, 4)"
      ]
     },
     "execution_count": 18,
     "metadata": {},
     "output_type": "execute_result"
    }
   ],
   "source": [
    "df.shape"
   ]
  },
  {
   "cell_type": "code",
   "execution_count": 40,
   "id": "6b43d221-467e-4415-92b5-50d1f0140300",
   "metadata": {},
   "outputs": [
    {
     "data": {
      "text/plain": [
       "<seaborn.axisgrid.PairGrid at 0x23a98b71760>"
      ]
     },
     "execution_count": 40,
     "metadata": {},
     "output_type": "execute_result"
    },
    {
     "data": {
      "image/png": "[encoded data removed]",
      "text/plain": [
       "<Figure size 599.275x540 with 12 Axes>"
      ]
     },
     "metadata": {
      "needs_background": "light"
     },
     "output_type": "display_data"
    }
   ],
   "source": [
    "plt.rcParams['figure.figsize'] = 30, 25\n",
    "dic = {\"size\": 14}\n",
    "matplotlib.rc('font', **dic)\n",
    "\n",
    "sns.pairplot(df, hue='room', )"
   ]
  },
  {
   "cell_type": "code",
   "execution_count": 41,
   "id": "076de3d6-03d3-4352-86a7-80d314ef0be8",
   "metadata": {},
   "outputs": [],
   "source": [
    "df.to_csv(\"data_cleared.csv\")"
   ]
  }
 ],
 "metadata": {
  "kernelspec": {
   "display_name": "Python 3 (ipykernel)",
   "language": "python",
   "name": "python3"
  },
  "language_info": {
   "codemirror_mode": {
    "name": "ipython",
    "version": 3
   },
   "file_extension": ".py",
   "mimetype": "text/x-python",
   "name": "python",
   "nbconvert_exporter": "python",
   "pygments_lexer": "ipython3",
   "version": "3.9.7"
  }
 },
 "nbformat": 4,
 "nbformat_minor": 5
}
